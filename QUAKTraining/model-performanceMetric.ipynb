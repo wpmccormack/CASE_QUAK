{
 "cells": [
  {
   "cell_type": "code",
   "execution_count": 1,
   "metadata": {},
   "outputs": [
    {
     "name": "stderr",
     "output_type": "stream",
     "text": [
      "/nobackup/users/sambt/anaconda3/envs/quak/lib/python3.7/site-packages/tqdm/auto.py:22: TqdmWarning: IProgress not found. Please update jupyter and ipywidgets. See https://ipywidgets.readthedocs.io/en/stable/user_install.html\n",
      "  from .autonotebook import tqdm as notebook_tqdm\n"
     ]
    },
    {
     "name": "stdout",
     "output_type": "stream",
     "text": [
      "Number of available CPUs: 80\n",
      "Device = cuda:0\n",
      "Number of threads: 80\n",
      "Number of interop threads: 80\n"
     ]
    }
   ],
   "source": [
    "%load_ext autoreload\n",
    "%autoreload 2\n",
    "\n",
    "import helper_functions as hf\n",
    "from imports import *\n",
    "import importlib\n",
    "import re\n",
    "from sklearn.decomposition import PCA\n",
    "\n",
    "num_available_cpus = multiprocessing.cpu_count()\n",
    "print(\"Number of available CPUs:\", num_available_cpus)\n",
    "\n",
    "torch.cuda.empty_cache()\n",
    "device = torch.device(\"cuda:0\" if torch.cuda.is_available() else \"cpu\")\n",
    "print(\"Device =\", device)\n",
    "torch.set_default_tensor_type('torch.cuda.FloatTensor') if torch.cuda.is_available() else print ('cpu')\n",
    "\n",
    "torch.set_num_threads(num_available_cpus)\n",
    "\n",
    "print(\"Number of threads:\", torch.get_num_threads())\n",
    "print(\"Number of interop threads:\", torch.get_num_interop_threads())"
   ]
  },
  {
   "cell_type": "code",
   "execution_count": 5,
   "metadata": {},
   "outputs": [],
   "source": [
    "signals_UL17 = [\"Qstar2000_W400_UL17\",\"Wp3000_B400_UL17\",\"XYY_X3000_Y80_UL17\"]\n",
    "base_dir = \"data_forStats_mjjDecorrelate/\"\n",
    "trainings = [d for d in os.listdir(base_dir) if os.path.isdir(base_dir+d)]\n",
    "trainings = [re.search('sigTrain(.*)_bkgTrain',d).group(1) for d in trainings]"
   ]
  },
  {
   "cell_type": "code",
   "execution_count": 6,
   "metadata": {},
   "outputs": [],
   "source": [
    "results = {}\n",
    "for sig_train in trainings:\n",
    "    aucs = {}\n",
    "    for sig_test in signals_UL17:\n",
    "        auc = hf.NNmodelPerformance(sig_train,sig_test,base_dir=base_dir)\n",
    "        aucs[sig_test] = auc\n",
    "    results[sig_train] = aucs"
   ]
  },
  {
   "cell_type": "code",
   "execution_count": 12,
   "metadata": {},
   "outputs": [],
   "source": [
    "with open(base_dir+\"NN_performance_results.json\",\"w\") as f:\n",
    "    json.dump(results,f,indent=4)"
   ]
  },
  {
   "cell_type": "code",
   "execution_count": 4,
   "metadata": {},
   "outputs": [],
   "source": [
    "# Trainings with LSF3\n",
    "signals_UL17 = [\"Qstar2000_W400_UL17\",\"Wp3000_B400_UL17\",\"XYY_X3000_Y80_UL17\"]\n",
    "base_dir = \"data_forStats_mjjDecorrelate_addLSF3/\"\n",
    "trainings = [d for d in os.listdir(base_dir) if os.path.isdir(base_dir+d) and 'sigTrain' in d]\n",
    "trainings = [re.search('sigTrain(.*)_bkgTrain',d).group(1) for d in trainings]"
   ]
  },
  {
   "cell_type": "code",
   "execution_count": 6,
   "metadata": {},
   "outputs": [],
   "source": [
    "results = {}\n",
    "for sig_train in trainings:\n",
    "    aucs = {}\n",
    "    for sig_test in signals_UL17:\n",
    "        auc = hf.NNmodelPerformance(sig_train,sig_test,base_dir=base_dir)\n",
    "        aucs[sig_test] = auc\n",
    "    results[sig_train] = aucs"
   ]
  },
  {
   "cell_type": "code",
   "execution_count": 7,
   "metadata": {},
   "outputs": [],
   "source": [
    "with open(base_dir+\"NN_performance_results.json\",\"w\") as f:\n",
    "    json.dump(results,f,indent=4)"
   ]
  },
  {
   "cell_type": "code",
   "execution_count": null,
   "metadata": {},
   "outputs": [],
   "source": []
  }
 ],
 "metadata": {
  "kernelspec": {
   "display_name": "quak",
   "language": "python",
   "name": "quak"
  },
  "language_info": {
   "codemirror_mode": {
    "name": "ipython",
    "version": 3
   },
   "file_extension": ".py",
   "mimetype": "text/x-python",
   "name": "python",
   "nbconvert_exporter": "python",
   "pygments_lexer": "ipython3",
   "version": "3.7.13"
  }
 },
 "nbformat": 4,
 "nbformat_minor": 4
}
