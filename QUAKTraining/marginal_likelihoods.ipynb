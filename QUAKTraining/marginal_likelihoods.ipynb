{
 "cells": [
  {
   "cell_type": "code",
   "execution_count": 1,
   "metadata": {},
   "outputs": [
    {
     "name": "stderr",
     "output_type": "stream",
     "text": [
      "/nobackup/users/sambt/anaconda3/envs/quak/lib/python3.7/site-packages/tqdm/auto.py:22: TqdmWarning: IProgress not found. Please update jupyter and ipywidgets. See https://ipywidgets.readthedocs.io/en/stable/user_install.html\n",
      "  from .autonotebook import tqdm as notebook_tqdm\n"
     ]
    },
    {
     "name": "stdout",
     "output_type": "stream",
     "text": [
      "Number of available CPUs: 80\n",
      "Device = cuda:0\n",
      "Number of threads: 80\n",
      "Number of interop threads: 80\n"
     ]
    }
   ],
   "source": [
    "%load_ext autoreload\n",
    "%autoreload 2\n",
    "\n",
    "import helper_functions as hf\n",
    "from imports import *\n",
    "import importlib\n",
    "\n",
    "num_available_cpus = multiprocessing.cpu_count()\n",
    "print(\"Number of available CPUs:\", num_available_cpus)\n",
    "\n",
    "torch.cuda.empty_cache()\n",
    "device = torch.device(\"cuda:0\" if torch.cuda.is_available() else \"cpu\")\n",
    "print(\"Device =\", device)\n",
    "torch.set_default_tensor_type('torch.cuda.FloatTensor') if torch.cuda.is_available() else print ('cpu')\n",
    "\n",
    "torch.set_num_threads(num_available_cpus)\n",
    "\n",
    "print(\"Number of threads:\", torch.get_num_threads())\n",
    "print(\"Number of interop threads:\", torch.get_num_interop_threads())"
   ]
  },
  {
   "cell_type": "code",
   "execution_count": 2,
   "metadata": {},
   "outputs": [],
   "source": [
    "model = \"XYY_X3000_Y80_UL17_clip10_NSRATQUAD_k6_hf120_nbpl4_tb10.pt\"\n",
    "bkg_model = \"QCDBKG_clip10_NSRATQUAD_k6_hf120_nbpl4_tb10.pt\"\n",
    "flow = hf.load_model(name=model)\n",
    "bkg_flow = hf.load_model(name=bkg_model)\n",
    "bkg_data, bkg_unnorm, bkg_mass = hf.load_full(\"QCDBKG\",num_batches=2)\n",
    "bkg_mean = np.mean(bkg_unnorm,axis=0)\n",
    "bkg_std = np.std(bkg_unnorm,axis=0)\n",
    "sig, sig_unnorm, sig_mass = hf.load_full(\"XYY_X3000_Y80_UL17\",bkg_mean=bkg_mean,bkg_std=bkg_std)"
   ]
  },
  {
   "cell_type": "code",
   "execution_count": 4,
   "metadata": {},
   "outputs": [
    {
     "name": "stdout",
     "output_type": "stream",
     "text": [
      "Sig mass - sigtr sig loss correlation: 0.11542115572656152\n",
      "Sig mass - bkgtr sig loss correlation: 0.18844837481115487\n",
      "Bkg mass - sigtr bkg loss correlation: 0.06319470052446327\n",
      "Bkg mass - bkgtr bkg loss correlation: 0.12116013726804346\n"
     ]
    }
   ],
   "source": [
    "from scipy.stats import pearsonr\n",
    "\n",
    "sig_losses = -flow.eval_log_prob(sig)[0]\n",
    "bkg_losses = -flow.eval_log_prob(bkg_data)[0]\n",
    "\n",
    "sig_losses_bkg = -bkg_flow.eval_log_prob(sig)[0]\n",
    "bkg_losses_bkg = -bkg_flow.eval_log_prob(bkg_data)[0]\n",
    "\n",
    "corr1, p1 = pearsonr(sig_mass[:,0],sig_losses)\n",
    "corr2, p2 = pearsonr(sig_mass[:,0],sig_losses_bkg)\n",
    "corr3, p3 = pearsonr(bkg_mass[:,0],bkg_losses)\n",
    "corr4, p4 = pearsonr(bkg_mass[:,0],bkg_losses_bkg)\n",
    "\n",
    "print(\"Sig mass - sigtr sig loss correlation: {0}\".format(corr1))\n",
    "print(\"Sig mass - bkgtr sig loss correlation: {0}\".format(corr2))\n",
    "print(\"Bkg mass - sigtr bkg loss correlation: {0}\".format(corr3))\n",
    "print(\"Bkg mass - bkgtr bkg loss correlation: {0}\".format(corr4))"
   ]
  },
  {
   "cell_type": "code",
   "execution_count": 3,
   "metadata": {},
   "outputs": [
    {
     "name": "stdout",
     "output_type": "stream",
     "text": [
      "Fri Jul  1 11:07:35 2022       \n",
      "+-----------------------------------------------------------------------------+\n",
      "| NVIDIA-SMI 460.73.01    Driver Version: 460.73.01    CUDA Version: 11.2     |\n",
      "|-------------------------------+----------------------+----------------------+\n",
      "| GPU  Name        Persistence-M| Bus-Id        Disp.A | Volatile Uncorr. ECC |\n",
      "| Fan  Temp  Perf  Pwr:Usage/Cap|         Memory-Usage | GPU-Util  Compute M. |\n",
      "|                               |                      |               MIG M. |\n",
      "|===============================+======================+======================|\n",
      "|   0  Tesla V100-SXM2...  On   | 00000004:04:00.0 Off |                    0 |\n",
      "| N/A   44C    P0    59W / 300W |    881MiB / 32510MiB |      0%      Default |\n",
      "|                               |                      |                  N/A |\n",
      "+-------------------------------+----------------------+----------------------+\n",
      "                                                                               \n",
      "+-----------------------------------------------------------------------------+\n",
      "| Processes:                                                                  |\n",
      "|  GPU   GI   CI        PID   Type   Process name                  GPU Memory |\n",
      "|        ID   ID                                                   Usage      |\n",
      "|=============================================================================|\n",
      "|    0   N/A  N/A   3955627      C   ...nda3/envs/quak/bin/python      879MiB |\n",
      "+-----------------------------------------------------------------------------+\n"
     ]
    }
   ],
   "source": [
    "!nvidia-smi"
   ]
  },
  {
   "cell_type": "code",
   "execution_count": 4,
   "metadata": {},
   "outputs": [
    {
     "name": "stdout",
     "output_type": "stream",
     "text": [
      "took 108.9397 secs to process 42616200 events\n"
     ]
    }
   ],
   "source": [
    "grid = np.arange(-10,10,step=0.1) + 0.05\n",
    "num_pts = bkg_data.shape[0]\n",
    "test_grid = np.tile(bkg_data,[len(grid),1])\n",
    "test_grid[:,0] = np.repeat(grid,num_pts)\n",
    "num_splits = test_grid.shape[0] // 100000\n",
    "losses = []\n",
    "t1 = time.time()\n",
    "for subarr in np.array_split(test_grid,num_splits):\n",
    "    loss = bkg_flow.eval_log_prob(subarr)[0]\n",
    "    losses.append(loss)\n",
    "t2 = time.time()\n",
    "print(\"took {0:.4f} secs to process {1} events\".format(t2-t1,test_grid.shape[0]))"
   ]
  },
  {
   "cell_type": "code",
   "execution_count": 12,
   "metadata": {},
   "outputs": [],
   "source": [
    "#losses = np.concatenate(losses,axis=0)\n",
    "loss_by_pt = []\n",
    "for i in range(num_pts):\n",
    "    loss_by_pt.append(0.1*np.sum(np.exp(losses[i::num_pts])))"
   ]
  },
  {
   "cell_type": "code",
   "execution_count": 14,
   "metadata": {},
   "outputs": [
    {
     "name": "stdout",
     "output_type": "stream",
     "text": [
      "(213081, 14)\n",
      "213081\n"
     ]
    }
   ],
   "source": [
    "print(bkg_data.shape)\n",
    "print(len(loss_by_pt))"
   ]
  },
  {
   "cell_type": "code",
   "execution_count": 21,
   "metadata": {},
   "outputs": [
    {
     "data": {
      "text/plain": [
       "array([1.5750000e+02, 3.5543817e-01, 8.4975237e-01, 8.4002590e-01,\n",
       "       3.8215637e+00, 8.7158203e-02, 7.1369759e+01, 9.9609375e+00,\n",
       "       7.3708010e-01, 7.6862401e-01, 7.9076397e-01, 1.8173405e+01,\n",
       "       1.5954590e-01, 4.0570789e+01], dtype=float32)"
      ]
     },
     "execution_count": 21,
     "metadata": {},
     "output_type": "execute_result"
    }
   ],
   "source": [
    "bkg_unnorm[0]"
   ]
  },
  {
   "cell_type": "code",
   "execution_count": null,
   "metadata": {},
   "outputs": [],
   "source": []
  }
 ],
 "metadata": {
  "kernelspec": {
   "display_name": "quak",
   "language": "python",
   "name": "quak"
  },
  "language_info": {
   "codemirror_mode": {
    "name": "ipython",
    "version": 3
   },
   "file_extension": ".py",
   "mimetype": "text/x-python",
   "name": "python",
   "nbconvert_exporter": "python",
   "pygments_lexer": "ipython3",
   "version": "3.7.13"
  }
 },
 "nbformat": 4,
 "nbformat_minor": 4
}
